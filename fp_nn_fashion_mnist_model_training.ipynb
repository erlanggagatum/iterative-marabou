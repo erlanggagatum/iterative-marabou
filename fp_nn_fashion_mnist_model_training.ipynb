{
 "cells": [
  {
   "cell_type": "code",
   "execution_count": 4,
   "metadata": {},
   "outputs": [],
   "source": [
    "import sys\n",
    "# Load the Iris dataset\n",
    "from sklearn.datasets import load_iris\n",
    "from sklearn.model_selection import train_test_split\n",
    "from sklearn.preprocessing import StandardScaler\n",
    "\n",
    "from sklearn.manifold import TSNE\n",
    "\n",
    "from maraboupy import Marabou\n",
    "import numpy as np\n",
    "import time\n",
    "\n",
    "import torch\n",
    "import torch.nn as nn\n",
    "import torch.optim as optim\n",
    "import onnx\n",
    "from torch.utils.data import DataLoader\n",
    "from torchvision import datasets, transforms\n",
    "\n",
    "import matplotlib.pyplot as plt\n",
    "\n",
    "import multiprocessing\n",
    "import time\n"
   ]
  },
  {
   "cell_type": "markdown",
   "metadata": {},
   "source": [
    "### Dataset"
   ]
  },
  {
   "cell_type": "code",
   "execution_count": 5,
   "metadata": {},
   "outputs": [],
   "source": [
    "# Dataset\n",
    "# Define transformations\n",
    "transform = transforms.Compose([\n",
    "    transforms.ToTensor(),\n",
    "    transforms.Normalize((0.5,), (0.5,))\n",
    "])\n",
    "\n",
    "# Load Fashion-MNIST dataset\n",
    "train_dataset = datasets.FashionMNIST(root='./data', train=True, transform=transform, download=True)\n",
    "test_dataset = datasets.FashionMNIST(root='./data', train=False, transform=transform, download=True)\n",
    "\n",
    "# DataLoader\n",
    "batch_size = 64\n",
    "train_loader = DataLoader(dataset=train_dataset, batch_size=batch_size, shuffle=True)\n",
    "test_loader = DataLoader(dataset=test_dataset, batch_size=batch_size, shuffle=False)"
   ]
  },
  {
   "cell_type": "markdown",
   "metadata": {},
   "source": [
    "### Model"
   ]
  },
  {
   "cell_type": "code",
   "execution_count": 6,
   "metadata": {},
   "outputs": [
    {
     "name": "stdout",
     "output_type": "stream",
     "text": [
      "Output shape: torch.Size([1, 10])\n"
     ]
    }
   ],
   "source": [
    "model = nn.Sequential(\n",
    "    nn.Flatten(start_dim=1),\n",
    "    nn.Linear(28*28, 32), # input shape and number of neurons\n",
    "    nn.ReLU(),\n",
    "    nn.Linear(32, 32),\n",
    "    nn.ReLU(),\n",
    "    nn.Linear(32, 10)  # 10 classes output\n",
    ")\n",
    "\n",
    "# Test the model with dummy input\n",
    "dummy_input = torch.randn(1, 1, 28, 28)  # Batch size = 1, 1 channel, 28x28\n",
    "output = model(dummy_input)\n",
    "print(\"Output shape:\", output.shape)  # Expected: [1, 10]\n",
    "\n",
    "# Loss and optimizer\n",
    "criterion = nn.CrossEntropyLoss()\n",
    "optimizer = optim.Adam(model.parameters(), lr=0.001)"
   ]
  },
  {
   "cell_type": "markdown",
   "metadata": {},
   "source": [
    "### Training"
   ]
  },
  {
   "cell_type": "code",
   "execution_count": 7,
   "metadata": {},
   "outputs": [
    {
     "name": "stdout",
     "output_type": "stream",
     "text": [
      "Epoch [1/50], Loss: 0.5747\n",
      "Epoch [2/50], Loss: 0.4124\n",
      "Epoch [3/50], Loss: 0.3813\n",
      "Epoch [4/50], Loss: 0.3592\n",
      "Epoch [5/50], Loss: 0.3448\n",
      "Epoch [6/50], Loss: 0.3329\n",
      "Epoch [7/50], Loss: 0.3205\n",
      "Epoch [8/50], Loss: 0.3121\n",
      "Epoch [9/50], Loss: 0.3024\n",
      "Epoch [10/50], Loss: 0.2990\n",
      "Epoch [11/50], Loss: 0.2909\n",
      "Epoch [12/50], Loss: 0.2828\n",
      "Epoch [13/50], Loss: 0.2782\n",
      "Epoch [14/50], Loss: 0.2731\n",
      "Epoch [15/50], Loss: 0.2694\n",
      "Epoch [16/50], Loss: 0.2625\n",
      "Epoch [17/50], Loss: 0.2578\n",
      "Epoch [18/50], Loss: 0.2546\n",
      "Epoch [19/50], Loss: 0.2499\n",
      "Epoch [20/50], Loss: 0.2491\n",
      "Epoch [21/50], Loss: 0.2421\n",
      "Epoch [22/50], Loss: 0.2404\n",
      "Epoch [23/50], Loss: 0.2382\n",
      "Epoch [24/50], Loss: 0.2335\n",
      "Epoch [25/50], Loss: 0.2316\n",
      "Epoch [26/50], Loss: 0.2274\n",
      "Epoch [27/50], Loss: 0.2267\n",
      "Epoch [28/50], Loss: 0.2220\n",
      "Epoch [29/50], Loss: 0.2218\n",
      "Epoch [30/50], Loss: 0.2172\n",
      "Epoch [31/50], Loss: 0.2181\n",
      "Epoch [32/50], Loss: 0.2147\n",
      "Epoch [33/50], Loss: 0.2110\n",
      "Epoch [34/50], Loss: 0.2098\n",
      "Epoch [35/50], Loss: 0.2085\n",
      "Epoch [36/50], Loss: 0.2047\n",
      "Epoch [37/50], Loss: 0.2041\n",
      "Epoch [38/50], Loss: 0.2032\n",
      "Epoch [39/50], Loss: 0.1993\n",
      "Epoch [40/50], Loss: 0.1984\n",
      "Epoch [41/50], Loss: 0.1954\n",
      "Epoch [42/50], Loss: 0.1956\n",
      "Epoch [43/50], Loss: 0.1909\n",
      "Epoch [44/50], Loss: 0.1929\n",
      "Epoch [45/50], Loss: 0.1895\n",
      "Epoch [46/50], Loss: 0.1858\n",
      "Epoch [47/50], Loss: 0.1871\n",
      "Epoch [48/50], Loss: 0.1865\n",
      "Epoch [49/50], Loss: 0.1818\n",
      "Epoch [50/50], Loss: 0.1835\n"
     ]
    }
   ],
   "source": [
    "# Train model\n",
    "num_epoch = 50\n",
    "device = torch.device('cpu')\n",
    "for epoch in range(num_epoch):\n",
    "    # print(epoch)\n",
    "    model.train()\n",
    "    running_loss = 0.0\n",
    "    for images, labels in train_loader:\n",
    "        images, labels = images.to(device), labels.to(device)\n",
    "        optimizer.zero_grad()\n",
    "        \n",
    "        # get model output\n",
    "        outputs = model(images)\n",
    "        loss = criterion(outputs, labels)\n",
    "        \n",
    "        # backward propagation\n",
    "        loss.backward()\n",
    "        optimizer.step()\n",
    "        \n",
    "        running_loss += loss.item()\n",
    "    \n",
    "    print(f'Epoch [{epoch+1}/{num_epoch}], Loss: {running_loss/len(train_loader):.4f}')"
   ]
  },
  {
   "cell_type": "code",
   "execution_count": 8,
   "metadata": {},
   "outputs": [
    {
     "name": "stdout",
     "output_type": "stream",
     "text": [
      "Model exported to simple_nn_fashion_mnist_sequential_50e.onnx\n"
     ]
    },
    {
     "name": "stderr",
     "output_type": "stream",
     "text": [
      "/tmp/ipykernel_36223/3796394841.py:16: FutureWarning: `optimize` is deprecated and has no effect. Use `with torch.jit.optimized_execution()` instead\n",
      "  model_scripted = torch.jit.script(model, 'simple_nn_fashion_mnist_sequential_50e.pt')\n"
     ]
    }
   ],
   "source": [
    "# Export the Sequential model to ONNX\n",
    "onnx_file_path = \"simple_nn_fashion_mnist_sequential_50e.onnx\"\n",
    "torch.onnx.export(\n",
    "    model,\n",
    "    dummy_input,\n",
    "    onnx_file_path,\n",
    "    export_params=True,\n",
    "    opset_version=12,\n",
    "    do_constant_folding=True,\n",
    "    input_names=[\"input\"],\n",
    "    output_names=[\"output\"],\n",
    "    dynamic_axes={\"input\": {0: \"batch_size\"}, \"output\": {0: \"batch_size\"}},\n",
    ")\n",
    "print(f\"Model exported to {onnx_file_path}\")\n",
    "\n",
    "model_scripted = torch.jit.script(model, 'simple_nn_fashion_mnist_sequential_50e.pt')\n",
    "model_scripted.save(\"simple_nn_fashion_mnist_sequential_50e.pt\")\n",
    "torch.save(model.state_dict(), 'simple_nn_fashion_mnist_sequential_50e.pth')"
   ]
  }
 ],
 "metadata": {
  "kernelspec": {
   "display_name": "marabou_3",
   "language": "python",
   "name": "python3"
  },
  "language_info": {
   "codemirror_mode": {
    "name": "ipython",
    "version": 3
   },
   "file_extension": ".py",
   "mimetype": "text/x-python",
   "name": "python",
   "nbconvert_exporter": "python",
   "pygments_lexer": "ipython3",
   "version": "3.10.0"
  }
 },
 "nbformat": 4,
 "nbformat_minor": 2
}
